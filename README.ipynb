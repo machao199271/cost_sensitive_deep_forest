{
 "cells": [
  {
   "cell_type": "markdown",
   "metadata": {},
   "source": [
    "# Cost-sensitive deep forest for price prediction"
   ]
  },
  {
   "cell_type": "markdown",
   "metadata": {},
   "source": [
    "This is the official clone for the implementation of [Cost-sensitive deep forest for price prediction](https://github.com/machao199271/machao199271.github.io/raw/master/Cost-sensitive%20deep%20forest%20for%20price%20prediction.pdf)[1]. The implementation is flexible enough for modifying the model or fit your own datasets."
   ]
  },
  {
   "cell_type": "markdown",
   "metadata": {},
   "source": [
    "Reference: [1] Chao Ma, Zhenbing Liu, Zhiguang Cao, Wen Song, Jie Zhang, Weiliang Zeng. Cost-sensitive Deep Forest for Price Prediction.[J] .Pattern Recognition."
   ]
  },
  {
   "cell_type": "markdown",
   "metadata": {},
   "source": [
    "## Files description"
   ]
  },
  {
   "cell_type": "markdown",
   "metadata": {},
   "source": [
    "'data.csv' is cleaned data of P2P car sharing, note that, not all features are used in the demo. And other datasets can be found in Kaggle."
   ]
  },
  {
   "cell_type": "markdown",
   "metadata": {},
   "source": [
    "'costsensitive' is a necessary package for [cost-sentive learning](https://costsensitive.readthedocs.io/en/latest/#)."
   ]
  },
  {
   "cell_type": "markdown",
   "metadata": {},
   "source": [
    "'run_on_server.py' contains the modified K-means we proposed and some other functions which will be used in the following step."
   ]
  },
  {
   "cell_type": "markdown",
   "metadata": {},
   "source": [
    "'cost_sensitive_deep_forest.py' is the method we proposed and traditional deep forest."
   ]
  },
  {
   "cell_type": "markdown",
   "metadata": {},
   "source": [
    "'random_forest.py' and 'rotation_forest.py' are the traditional methods. Note that, the code of SVM and MLP is not offered because of their bad performance."
   ]
  }
 ],
 "metadata": {
  "kernelspec": {
   "display_name": "Python 3",
   "language": "python",
   "name": "python3"
  },
  "language_info": {
   "codemirror_mode": {
    "name": "ipython",
    "version": 3
   },
   "file_extension": ".py",
   "mimetype": "text/x-python",
   "name": "python",
   "nbconvert_exporter": "python",
   "pygments_lexer": "ipython3",
   "version": "3.7.0"
  }
 },
 "nbformat": 4,
 "nbformat_minor": 2
}
